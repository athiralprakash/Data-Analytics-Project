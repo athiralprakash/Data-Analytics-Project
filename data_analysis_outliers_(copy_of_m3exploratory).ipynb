{
  "cells": [
    {
      "cell_type": "markdown",
      "metadata": {
        "id": "MYy5oK-EN7oP"
      },
      "source": [
        "<p style=\"text-align:center\">\n",
        "    <a href=\"https://skills.network/?utm_medium=Exinfluencer&utm_source=Exinfluencer&utm_content=000026UJ&utm_term=10006555&utm_id=NA-SkillsNetwork-Channel-SkillsNetworkCoursesIBMDA0321ENSkillsNetwork928-2023-01-01\">\n",
        "    <img src=\"https://cf-courses-data.s3.us.cloud-object-storage.appdomain.cloud/assets/logos/SN_web_lightmode.png\" width=\"200\" alt=\"Skills Network Logo\"  />\n",
        "    </a>\n",
        "</p>\n"
      ]
    },
    {
      "cell_type": "markdown",
      "metadata": {
        "id": "CtRoxLstN7oR"
      },
      "source": [
        "# **Exploratory Data Analysis Lab**\n"
      ]
    },
    {
      "cell_type": "markdown",
      "metadata": {
        "id": "8CQyEhIaN7oS"
      },
      "source": [
        "Estimated time needed: **30** minutes\n"
      ]
    },
    {
      "cell_type": "markdown",
      "metadata": {
        "id": "idz7-_NbN7oT"
      },
      "source": [
        "In this module you get to work with the cleaned dataset from the previous module.\n",
        "\n",
        "In this assignment you will perform the task of exploratory data analysis.\n",
        "You will find out the distribution of data, presence of outliers and also determine the correlation between different columns in the dataset.\n"
      ]
    },
    {
      "cell_type": "markdown",
      "metadata": {
        "id": "jY7LRIDTN7oT"
      },
      "source": [
        "## Objectives\n"
      ]
    },
    {
      "cell_type": "markdown",
      "metadata": {
        "id": "glfqhntwN7oT"
      },
      "source": [
        "In this lab you will perform the following:\n"
      ]
    },
    {
      "cell_type": "markdown",
      "metadata": {
        "id": "5WPfNe1RN7oU"
      },
      "source": [
        "-   Identify the distribution of data in the dataset.\n",
        "\n",
        "-   Identify outliers in the dataset.\n",
        "\n",
        "-   Remove outliers from the dataset.\n",
        "\n",
        "-   Identify correlation between features in the dataset.\n"
      ]
    },
    {
      "cell_type": "markdown",
      "metadata": {
        "id": "pzgJDrY_N7oU"
      },
      "source": [
        "* * *\n"
      ]
    },
    {
      "cell_type": "markdown",
      "metadata": {
        "id": "EnWOoWEIN7oV"
      },
      "source": [
        "## Hands on Lab\n"
      ]
    },
    {
      "cell_type": "markdown",
      "metadata": {
        "id": "rs4mRnDxN7oW"
      },
      "source": [
        "Import the pandas module.\n"
      ]
    },
    {
      "cell_type": "code",
      "execution_count": null,
      "metadata": {
        "id": "wTCYsraJN7oW"
      },
      "outputs": [],
      "source": [
        "import pandas as pd"
      ]
    },
    {
      "cell_type": "markdown",
      "metadata": {
        "id": "Q_aesgDcN7oX"
      },
      "source": [
        "Load the dataset into a dataframe.\n"
      ]
    },
    {
      "cell_type": "code",
      "execution_count": null,
      "metadata": {
        "id": "hrZmPXUJN7oX"
      },
      "outputs": [],
      "source": [
        "df = pd.read_csv(\"https://cf-courses-data.s3.us.cloud-object-storage.appdomain.cloud/IBM-DA0321EN-SkillsNetwork/LargeData/m2_survey_data.csv\")"
      ]
    },
    {
      "cell_type": "code",
      "source": [
        "df.head()"
      ],
      "metadata": {
        "colab": {
          "base_uri": "https://localhost:8080/",
          "height": 603
        },
        "id": "u7UnXR66wXys",
        "outputId": "30b90c9e-6808-4d76-9b42-7ec7214615ea"
      },
      "execution_count": null,
      "outputs": [
        {
          "output_type": "execute_result",
          "data": {
            "text/plain": [
              "   Respondent                      MainBranch Hobbyist  \\\n",
              "0           4  I am a developer by profession       No   \n",
              "1           9  I am a developer by profession      Yes   \n",
              "2          13  I am a developer by profession      Yes   \n",
              "3          16  I am a developer by profession      Yes   \n",
              "4          17  I am a developer by profession      Yes   \n",
              "\n",
              "                                         OpenSourcer  \\\n",
              "0                                              Never   \n",
              "1                         Once a month or more often   \n",
              "2  Less than once a month but more than once per ...   \n",
              "3                                              Never   \n",
              "4  Less than once a month but more than once per ...   \n",
              "\n",
              "                                          OpenSource          Employment  \\\n",
              "0  The quality of OSS and closed source software ...  Employed full-time   \n",
              "1  The quality of OSS and closed source software ...  Employed full-time   \n",
              "2  OSS is, on average, of HIGHER quality than pro...  Employed full-time   \n",
              "3  The quality of OSS and closed source software ...  Employed full-time   \n",
              "4  The quality of OSS and closed source software ...  Employed full-time   \n",
              "\n",
              "          Country Student                                            EdLevel  \\\n",
              "0   United States      No           Bachelor’s degree (BA, BS, B.Eng., etc.)   \n",
              "1     New Zealand      No  Some college/university study without earning ...   \n",
              "2   United States      No        Master’s degree (MA, MS, M.Eng., MBA, etc.)   \n",
              "3  United Kingdom      No        Master’s degree (MA, MS, M.Eng., MBA, etc.)   \n",
              "4       Australia      No           Bachelor’s degree (BA, BS, B.Eng., etc.)   \n",
              "\n",
              "                                      UndergradMajor  ...  \\\n",
              "0  Computer science, computer engineering, or sof...  ...   \n",
              "1  Computer science, computer engineering, or sof...  ...   \n",
              "2  Computer science, computer engineering, or sof...  ...   \n",
              "3                                                NaN  ...   \n",
              "4  Computer science, computer engineering, or sof...  ...   \n",
              "\n",
              "                              WelcomeChange  \\\n",
              "0   Just as welcome now as I felt last year   \n",
              "1   Just as welcome now as I felt last year   \n",
              "2  Somewhat more welcome now than last year   \n",
              "3   Just as welcome now as I felt last year   \n",
              "4   Just as welcome now as I felt last year   \n",
              "\n",
              "                                        SONewContent   Age Gender Trans  \\\n",
              "0  Tech articles written by other developers;Indu...  22.0    Man    No   \n",
              "1                                                NaN  23.0    Man    No   \n",
              "2  Tech articles written by other developers;Cour...  28.0    Man    No   \n",
              "3  Tech articles written by other developers;Indu...  26.0    Man    No   \n",
              "4  Tech articles written by other developers;Indu...  29.0    Man    No   \n",
              "\n",
              "                 Sexuality                              Ethnicity Dependents  \\\n",
              "0  Straight / Heterosexual           White or of European descent         No   \n",
              "1                 Bisexual           White or of European descent         No   \n",
              "2  Straight / Heterosexual           White or of European descent        Yes   \n",
              "3  Straight / Heterosexual           White or of European descent         No   \n",
              "4  Straight / Heterosexual  Hispanic or Latino/Latina;Multiracial         No   \n",
              "\n",
              "            SurveyLength                  SurveyEase  \n",
              "0  Appropriate in length                        Easy  \n",
              "1  Appropriate in length  Neither easy nor difficult  \n",
              "2  Appropriate in length                        Easy  \n",
              "3  Appropriate in length  Neither easy nor difficult  \n",
              "4  Appropriate in length                        Easy  \n",
              "\n",
              "[5 rows x 85 columns]"
            ],
            "text/html": [
              "\n",
              "  <div id=\"df-f8b7b129-a761-4f40-9b94-0ff1764ff536\" class=\"colab-df-container\">\n",
              "    <div>\n",
              "<style scoped>\n",
              "    .dataframe tbody tr th:only-of-type {\n",
              "        vertical-align: middle;\n",
              "    }\n",
              "\n",
              "    .dataframe tbody tr th {\n",
              "        vertical-align: top;\n",
              "    }\n",
              "\n",
              "    .dataframe thead th {\n",
              "        text-align: right;\n",
              "    }\n",
              "</style>\n",
              "<table border=\"1\" class=\"dataframe\">\n",
              "  <thead>\n",
              "    <tr style=\"text-align: right;\">\n",
              "      <th></th>\n",
              "      <th>Respondent</th>\n",
              "      <th>MainBranch</th>\n",
              "      <th>Hobbyist</th>\n",
              "      <th>OpenSourcer</th>\n",
              "      <th>OpenSource</th>\n",
              "      <th>Employment</th>\n",
              "      <th>Country</th>\n",
              "      <th>Student</th>\n",
              "      <th>EdLevel</th>\n",
              "      <th>UndergradMajor</th>\n",
              "      <th>...</th>\n",
              "      <th>WelcomeChange</th>\n",
              "      <th>SONewContent</th>\n",
              "      <th>Age</th>\n",
              "      <th>Gender</th>\n",
              "      <th>Trans</th>\n",
              "      <th>Sexuality</th>\n",
              "      <th>Ethnicity</th>\n",
              "      <th>Dependents</th>\n",
              "      <th>SurveyLength</th>\n",
              "      <th>SurveyEase</th>\n",
              "    </tr>\n",
              "  </thead>\n",
              "  <tbody>\n",
              "    <tr>\n",
              "      <th>0</th>\n",
              "      <td>4</td>\n",
              "      <td>I am a developer by profession</td>\n",
              "      <td>No</td>\n",
              "      <td>Never</td>\n",
              "      <td>The quality of OSS and closed source software ...</td>\n",
              "      <td>Employed full-time</td>\n",
              "      <td>United States</td>\n",
              "      <td>No</td>\n",
              "      <td>Bachelor’s degree (BA, BS, B.Eng., etc.)</td>\n",
              "      <td>Computer science, computer engineering, or sof...</td>\n",
              "      <td>...</td>\n",
              "      <td>Just as welcome now as I felt last year</td>\n",
              "      <td>Tech articles written by other developers;Indu...</td>\n",
              "      <td>22.0</td>\n",
              "      <td>Man</td>\n",
              "      <td>No</td>\n",
              "      <td>Straight / Heterosexual</td>\n",
              "      <td>White or of European descent</td>\n",
              "      <td>No</td>\n",
              "      <td>Appropriate in length</td>\n",
              "      <td>Easy</td>\n",
              "    </tr>\n",
              "    <tr>\n",
              "      <th>1</th>\n",
              "      <td>9</td>\n",
              "      <td>I am a developer by profession</td>\n",
              "      <td>Yes</td>\n",
              "      <td>Once a month or more often</td>\n",
              "      <td>The quality of OSS and closed source software ...</td>\n",
              "      <td>Employed full-time</td>\n",
              "      <td>New Zealand</td>\n",
              "      <td>No</td>\n",
              "      <td>Some college/university study without earning ...</td>\n",
              "      <td>Computer science, computer engineering, or sof...</td>\n",
              "      <td>...</td>\n",
              "      <td>Just as welcome now as I felt last year</td>\n",
              "      <td>NaN</td>\n",
              "      <td>23.0</td>\n",
              "      <td>Man</td>\n",
              "      <td>No</td>\n",
              "      <td>Bisexual</td>\n",
              "      <td>White or of European descent</td>\n",
              "      <td>No</td>\n",
              "      <td>Appropriate in length</td>\n",
              "      <td>Neither easy nor difficult</td>\n",
              "    </tr>\n",
              "    <tr>\n",
              "      <th>2</th>\n",
              "      <td>13</td>\n",
              "      <td>I am a developer by profession</td>\n",
              "      <td>Yes</td>\n",
              "      <td>Less than once a month but more than once per ...</td>\n",
              "      <td>OSS is, on average, of HIGHER quality than pro...</td>\n",
              "      <td>Employed full-time</td>\n",
              "      <td>United States</td>\n",
              "      <td>No</td>\n",
              "      <td>Master’s degree (MA, MS, M.Eng., MBA, etc.)</td>\n",
              "      <td>Computer science, computer engineering, or sof...</td>\n",
              "      <td>...</td>\n",
              "      <td>Somewhat more welcome now than last year</td>\n",
              "      <td>Tech articles written by other developers;Cour...</td>\n",
              "      <td>28.0</td>\n",
              "      <td>Man</td>\n",
              "      <td>No</td>\n",
              "      <td>Straight / Heterosexual</td>\n",
              "      <td>White or of European descent</td>\n",
              "      <td>Yes</td>\n",
              "      <td>Appropriate in length</td>\n",
              "      <td>Easy</td>\n",
              "    </tr>\n",
              "    <tr>\n",
              "      <th>3</th>\n",
              "      <td>16</td>\n",
              "      <td>I am a developer by profession</td>\n",
              "      <td>Yes</td>\n",
              "      <td>Never</td>\n",
              "      <td>The quality of OSS and closed source software ...</td>\n",
              "      <td>Employed full-time</td>\n",
              "      <td>United Kingdom</td>\n",
              "      <td>No</td>\n",
              "      <td>Master’s degree (MA, MS, M.Eng., MBA, etc.)</td>\n",
              "      <td>NaN</td>\n",
              "      <td>...</td>\n",
              "      <td>Just as welcome now as I felt last year</td>\n",
              "      <td>Tech articles written by other developers;Indu...</td>\n",
              "      <td>26.0</td>\n",
              "      <td>Man</td>\n",
              "      <td>No</td>\n",
              "      <td>Straight / Heterosexual</td>\n",
              "      <td>White or of European descent</td>\n",
              "      <td>No</td>\n",
              "      <td>Appropriate in length</td>\n",
              "      <td>Neither easy nor difficult</td>\n",
              "    </tr>\n",
              "    <tr>\n",
              "      <th>4</th>\n",
              "      <td>17</td>\n",
              "      <td>I am a developer by profession</td>\n",
              "      <td>Yes</td>\n",
              "      <td>Less than once a month but more than once per ...</td>\n",
              "      <td>The quality of OSS and closed source software ...</td>\n",
              "      <td>Employed full-time</td>\n",
              "      <td>Australia</td>\n",
              "      <td>No</td>\n",
              "      <td>Bachelor’s degree (BA, BS, B.Eng., etc.)</td>\n",
              "      <td>Computer science, computer engineering, or sof...</td>\n",
              "      <td>...</td>\n",
              "      <td>Just as welcome now as I felt last year</td>\n",
              "      <td>Tech articles written by other developers;Indu...</td>\n",
              "      <td>29.0</td>\n",
              "      <td>Man</td>\n",
              "      <td>No</td>\n",
              "      <td>Straight / Heterosexual</td>\n",
              "      <td>Hispanic or Latino/Latina;Multiracial</td>\n",
              "      <td>No</td>\n",
              "      <td>Appropriate in length</td>\n",
              "      <td>Easy</td>\n",
              "    </tr>\n",
              "  </tbody>\n",
              "</table>\n",
              "<p>5 rows × 85 columns</p>\n",
              "</div>\n",
              "    <div class=\"colab-df-buttons\">\n",
              "\n",
              "  <div class=\"colab-df-container\">\n",
              "    <button class=\"colab-df-convert\" onclick=\"convertToInteractive('df-f8b7b129-a761-4f40-9b94-0ff1764ff536')\"\n",
              "            title=\"Convert this dataframe to an interactive table.\"\n",
              "            style=\"display:none;\">\n",
              "\n",
              "  <svg xmlns=\"http://www.w3.org/2000/svg\" height=\"24px\" viewBox=\"0 -960 960 960\">\n",
              "    <path d=\"M120-120v-720h720v720H120Zm60-500h600v-160H180v160Zm220 220h160v-160H400v160Zm0 220h160v-160H400v160ZM180-400h160v-160H180v160Zm440 0h160v-160H620v160ZM180-180h160v-160H180v160Zm440 0h160v-160H620v160Z\"/>\n",
              "  </svg>\n",
              "    </button>\n",
              "\n",
              "  <style>\n",
              "    .colab-df-container {\n",
              "      display:flex;\n",
              "      gap: 12px;\n",
              "    }\n",
              "\n",
              "    .colab-df-convert {\n",
              "      background-color: #E8F0FE;\n",
              "      border: none;\n",
              "      border-radius: 50%;\n",
              "      cursor: pointer;\n",
              "      display: none;\n",
              "      fill: #1967D2;\n",
              "      height: 32px;\n",
              "      padding: 0 0 0 0;\n",
              "      width: 32px;\n",
              "    }\n",
              "\n",
              "    .colab-df-convert:hover {\n",
              "      background-color: #E2EBFA;\n",
              "      box-shadow: 0px 1px 2px rgba(60, 64, 67, 0.3), 0px 1px 3px 1px rgba(60, 64, 67, 0.15);\n",
              "      fill: #174EA6;\n",
              "    }\n",
              "\n",
              "    .colab-df-buttons div {\n",
              "      margin-bottom: 4px;\n",
              "    }\n",
              "\n",
              "    [theme=dark] .colab-df-convert {\n",
              "      background-color: #3B4455;\n",
              "      fill: #D2E3FC;\n",
              "    }\n",
              "\n",
              "    [theme=dark] .colab-df-convert:hover {\n",
              "      background-color: #434B5C;\n",
              "      box-shadow: 0px 1px 3px 1px rgba(0, 0, 0, 0.15);\n",
              "      filter: drop-shadow(0px 1px 2px rgba(0, 0, 0, 0.3));\n",
              "      fill: #FFFFFF;\n",
              "    }\n",
              "  </style>\n",
              "\n",
              "    <script>\n",
              "      const buttonEl =\n",
              "        document.querySelector('#df-f8b7b129-a761-4f40-9b94-0ff1764ff536 button.colab-df-convert');\n",
              "      buttonEl.style.display =\n",
              "        google.colab.kernel.accessAllowed ? 'block' : 'none';\n",
              "\n",
              "      async function convertToInteractive(key) {\n",
              "        const element = document.querySelector('#df-f8b7b129-a761-4f40-9b94-0ff1764ff536');\n",
              "        const dataTable =\n",
              "          await google.colab.kernel.invokeFunction('convertToInteractive',\n",
              "                                                    [key], {});\n",
              "        if (!dataTable) return;\n",
              "\n",
              "        const docLinkHtml = 'Like what you see? Visit the ' +\n",
              "          '<a target=\"_blank\" href=https://colab.research.google.com/notebooks/data_table.ipynb>data table notebook</a>'\n",
              "          + ' to learn more about interactive tables.';\n",
              "        element.innerHTML = '';\n",
              "        dataTable['output_type'] = 'display_data';\n",
              "        await google.colab.output.renderOutput(dataTable, element);\n",
              "        const docLink = document.createElement('div');\n",
              "        docLink.innerHTML = docLinkHtml;\n",
              "        element.appendChild(docLink);\n",
              "      }\n",
              "    </script>\n",
              "  </div>\n",
              "\n",
              "\n",
              "<div id=\"df-bebafae0-0068-4203-917b-bb044d91fc62\">\n",
              "  <button class=\"colab-df-quickchart\" onclick=\"quickchart('df-bebafae0-0068-4203-917b-bb044d91fc62')\"\n",
              "            title=\"Suggest charts\"\n",
              "            style=\"display:none;\">\n",
              "\n",
              "<svg xmlns=\"http://www.w3.org/2000/svg\" height=\"24px\"viewBox=\"0 0 24 24\"\n",
              "     width=\"24px\">\n",
              "    <g>\n",
              "        <path d=\"M19 3H5c-1.1 0-2 .9-2 2v14c0 1.1.9 2 2 2h14c1.1 0 2-.9 2-2V5c0-1.1-.9-2-2-2zM9 17H7v-7h2v7zm4 0h-2V7h2v10zm4 0h-2v-4h2v4z\"/>\n",
              "    </g>\n",
              "</svg>\n",
              "  </button>\n",
              "\n",
              "<style>\n",
              "  .colab-df-quickchart {\n",
              "      --bg-color: #E8F0FE;\n",
              "      --fill-color: #1967D2;\n",
              "      --hover-bg-color: #E2EBFA;\n",
              "      --hover-fill-color: #174EA6;\n",
              "      --disabled-fill-color: #AAA;\n",
              "      --disabled-bg-color: #DDD;\n",
              "  }\n",
              "\n",
              "  [theme=dark] .colab-df-quickchart {\n",
              "      --bg-color: #3B4455;\n",
              "      --fill-color: #D2E3FC;\n",
              "      --hover-bg-color: #434B5C;\n",
              "      --hover-fill-color: #FFFFFF;\n",
              "      --disabled-bg-color: #3B4455;\n",
              "      --disabled-fill-color: #666;\n",
              "  }\n",
              "\n",
              "  .colab-df-quickchart {\n",
              "    background-color: var(--bg-color);\n",
              "    border: none;\n",
              "    border-radius: 50%;\n",
              "    cursor: pointer;\n",
              "    display: none;\n",
              "    fill: var(--fill-color);\n",
              "    height: 32px;\n",
              "    padding: 0;\n",
              "    width: 32px;\n",
              "  }\n",
              "\n",
              "  .colab-df-quickchart:hover {\n",
              "    background-color: var(--hover-bg-color);\n",
              "    box-shadow: 0 1px 2px rgba(60, 64, 67, 0.3), 0 1px 3px 1px rgba(60, 64, 67, 0.15);\n",
              "    fill: var(--button-hover-fill-color);\n",
              "  }\n",
              "\n",
              "  .colab-df-quickchart-complete:disabled,\n",
              "  .colab-df-quickchart-complete:disabled:hover {\n",
              "    background-color: var(--disabled-bg-color);\n",
              "    fill: var(--disabled-fill-color);\n",
              "    box-shadow: none;\n",
              "  }\n",
              "\n",
              "  .colab-df-spinner {\n",
              "    border: 2px solid var(--fill-color);\n",
              "    border-color: transparent;\n",
              "    border-bottom-color: var(--fill-color);\n",
              "    animation:\n",
              "      spin 1s steps(1) infinite;\n",
              "  }\n",
              "\n",
              "  @keyframes spin {\n",
              "    0% {\n",
              "      border-color: transparent;\n",
              "      border-bottom-color: var(--fill-color);\n",
              "      border-left-color: var(--fill-color);\n",
              "    }\n",
              "    20% {\n",
              "      border-color: transparent;\n",
              "      border-left-color: var(--fill-color);\n",
              "      border-top-color: var(--fill-color);\n",
              "    }\n",
              "    30% {\n",
              "      border-color: transparent;\n",
              "      border-left-color: var(--fill-color);\n",
              "      border-top-color: var(--fill-color);\n",
              "      border-right-color: var(--fill-color);\n",
              "    }\n",
              "    40% {\n",
              "      border-color: transparent;\n",
              "      border-right-color: var(--fill-color);\n",
              "      border-top-color: var(--fill-color);\n",
              "    }\n",
              "    60% {\n",
              "      border-color: transparent;\n",
              "      border-right-color: var(--fill-color);\n",
              "    }\n",
              "    80% {\n",
              "      border-color: transparent;\n",
              "      border-right-color: var(--fill-color);\n",
              "      border-bottom-color: var(--fill-color);\n",
              "    }\n",
              "    90% {\n",
              "      border-color: transparent;\n",
              "      border-bottom-color: var(--fill-color);\n",
              "    }\n",
              "  }\n",
              "</style>\n",
              "\n",
              "  <script>\n",
              "    async function quickchart(key) {\n",
              "      const quickchartButtonEl =\n",
              "        document.querySelector('#' + key + ' button');\n",
              "      quickchartButtonEl.disabled = true;  // To prevent multiple clicks.\n",
              "      quickchartButtonEl.classList.add('colab-df-spinner');\n",
              "      try {\n",
              "        const charts = await google.colab.kernel.invokeFunction(\n",
              "            'suggestCharts', [key], {});\n",
              "      } catch (error) {\n",
              "        console.error('Error during call to suggestCharts:', error);\n",
              "      }\n",
              "      quickchartButtonEl.classList.remove('colab-df-spinner');\n",
              "      quickchartButtonEl.classList.add('colab-df-quickchart-complete');\n",
              "    }\n",
              "    (() => {\n",
              "      let quickchartButtonEl =\n",
              "        document.querySelector('#df-bebafae0-0068-4203-917b-bb044d91fc62 button');\n",
              "      quickchartButtonEl.style.display =\n",
              "        google.colab.kernel.accessAllowed ? 'block' : 'none';\n",
              "    })();\n",
              "  </script>\n",
              "</div>\n",
              "    </div>\n",
              "  </div>\n"
            ]
          },
          "metadata": {},
          "execution_count": 4
        }
      ]
    },
    {
      "cell_type": "code",
      "source": [
        "df.columns"
      ],
      "metadata": {
        "colab": {
          "base_uri": "https://localhost:8080/"
        },
        "id": "-p73XzczxB5h",
        "outputId": "be632a4d-7a9b-4cb1-e0dd-b5155ff3adb3"
      },
      "execution_count": null,
      "outputs": [
        {
          "output_type": "execute_result",
          "data": {
            "text/plain": [
              "Index(['Respondent', 'MainBranch', 'Hobbyist', 'OpenSourcer', 'OpenSource',\n",
              "       'Employment', 'Country', 'Student', 'EdLevel', 'UndergradMajor',\n",
              "       'EduOther', 'OrgSize', 'DevType', 'YearsCode', 'Age1stCode',\n",
              "       'YearsCodePro', 'CareerSat', 'JobSat', 'MgrIdiot', 'MgrMoney',\n",
              "       'MgrWant', 'JobSeek', 'LastHireDate', 'LastInt', 'FizzBuzz',\n",
              "       'JobFactors', 'ResumeUpdate', 'CurrencySymbol', 'CurrencyDesc',\n",
              "       'CompTotal', 'CompFreq', 'ConvertedComp', 'WorkWeekHrs', 'WorkPlan',\n",
              "       'WorkChallenge', 'WorkRemote', 'WorkLoc', 'ImpSyn', 'CodeRev',\n",
              "       'CodeRevHrs', 'UnitTests', 'PurchaseHow', 'PurchaseWhat',\n",
              "       'LanguageWorkedWith', 'LanguageDesireNextYear', 'DatabaseWorkedWith',\n",
              "       'DatabaseDesireNextYear', 'PlatformWorkedWith',\n",
              "       'PlatformDesireNextYear', 'WebFrameWorkedWith',\n",
              "       'WebFrameDesireNextYear', 'MiscTechWorkedWith',\n",
              "       'MiscTechDesireNextYear', 'DevEnviron', 'OpSys', 'Containers',\n",
              "       'BlockchainOrg', 'BlockchainIs', 'BetterLife', 'ITperson', 'OffOn',\n",
              "       'SocialMedia', 'Extraversion', 'ScreenName', 'SOVisit1st',\n",
              "       'SOVisitFreq', 'SOVisitTo', 'SOFindAnswer', 'SOTimeSaved',\n",
              "       'SOHowMuchTime', 'SOAccount', 'SOPartFreq', 'SOJobs', 'EntTeams',\n",
              "       'SOComm', 'WelcomeChange', 'SONewContent', 'Age', 'Gender', 'Trans',\n",
              "       'Sexuality', 'Ethnicity', 'Dependents', 'SurveyLength', 'SurveyEase'],\n",
              "      dtype='object')"
            ]
          },
          "metadata": {},
          "execution_count": 5
        }
      ]
    },
    {
      "cell_type": "code",
      "source": [
        "df['ConvertedComp'].head"
      ],
      "metadata": {
        "colab": {
          "base_uri": "https://localhost:8080/"
        },
        "id": "NaVEn3gWxHdC",
        "outputId": "d1f950cb-2d47-473d-d733-9bf5666c46fa"
      },
      "execution_count": null,
      "outputs": [
        {
          "output_type": "execute_result",
          "data": {
            "text/plain": [
              "<bound method NDFrame.head of 0         61000.0\n",
              "1         95179.0\n",
              "2         90000.0\n",
              "3        455352.0\n",
              "4         65277.0\n",
              "           ...   \n",
              "11393    130000.0\n",
              "11394     19880.0\n",
              "11395    105000.0\n",
              "11396     80371.0\n",
              "11397         NaN\n",
              "Name: ConvertedComp, Length: 11398, dtype: float64>"
            ]
          },
          "metadata": {},
          "execution_count": 6
        }
      ]
    },
    {
      "cell_type": "code",
      "source": [],
      "metadata": {
        "id": "LlIV5Ie4x8S5"
      },
      "execution_count": null,
      "outputs": []
    },
    {
      "cell_type": "markdown",
      "metadata": {
        "id": "Ls89gVERN7oY"
      },
      "source": [
        "## Distribution\n"
      ]
    },
    {
      "cell_type": "markdown",
      "metadata": {
        "id": "UI_o3j_SN7oY"
      },
      "source": [
        "### Determine how the data is distributed\n"
      ]
    },
    {
      "cell_type": "markdown",
      "metadata": {
        "id": "4fclN6ekN7oY"
      },
      "source": [
        "The column `ConvertedComp` contains Salary converted to annual USD salaries using the exchange rate on 2019-02-01.\n",
        "\n",
        "This assumes 12 working months and 50 working weeks.\n"
      ]
    },
    {
      "cell_type": "markdown",
      "metadata": {
        "id": "JAuKrMt2N7oY"
      },
      "source": [
        "Plot the distribution curve for the column `ConvertedComp`.\n"
      ]
    },
    {
      "cell_type": "code",
      "source": [
        "import matplotlib.pyplot as plt\n",
        "import seaborn as sns"
      ],
      "metadata": {
        "id": "ebNaVsotx-Lv"
      },
      "execution_count": null,
      "outputs": []
    },
    {
      "cell_type": "code",
      "execution_count": null,
      "metadata": {
        "colab": {
          "base_uri": "https://localhost:8080/",
          "height": 564
        },
        "id": "AYdMjw_VN7oY",
        "outputId": "d1cb46b4-3200-4fd6-8815-b72f3244daec"
      },
      "outputs": [
        {
          "output_type": "display_data",
          "data": {
            "text/plain": [
              "<Figure size 1000x600 with 1 Axes>"
            ],
            "image/png": "[encoded data removed]"
          },
          "metadata": {}
        }
      ],
      "source": [
        "\n",
        "# Plot the distribution curve for ConvertedComp\n",
        "plt.figure(figsize=(10, 6))\n",
        "sns.histplot(df['ConvertedComp'], bins=30, kde=True, color='skyblue')\n",
        "\n",
        "# Set labels and title\n",
        "plt.xlabel('Converted Compensation (USD)')\n",
        "plt.ylabel('Frequency')\n",
        "plt.title('Distribution of Converted Compensation')\n",
        "\n",
        "# Show the plot\n",
        "plt.show()"
      ]
    },
    {
      "cell_type": "markdown",
      "metadata": {
        "id": "XFTUwaYFN7oY"
      },
      "source": [
        "Plot the histogram for the column `ConvertedComp`.\n"
      ]
    },
    {
      "cell_type": "code",
      "execution_count": null,
      "metadata": {
        "colab": {
          "base_uri": "https://localhost:8080/",
          "height": 564
        },
        "id": "GMpxz3ydN7oZ",
        "outputId": "bd56962e-a396-4f63-9db4-18dcde143ce2"
      },
      "outputs": [
        {
          "output_type": "display_data",
          "data": {
            "text/plain": [
              "<Figure size 1000x600 with 1 Axes>"
            ],
            "image/png": "[encoded data removed]"
          },
          "metadata": {}
        }
      ],
      "source": [
        "# your code goes here\n",
        "# Plot the histogram for ConvertedComp\n",
        "plt.figure(figsize=(10, 6))\n",
        "plt.hist(df['ConvertedComp'], bins=30, color='skyblue', edgecolor='black')\n",
        "\n",
        "# Set labels and title\n",
        "plt.xlabel('Converted Compensation (USD)')\n",
        "plt.ylabel('Frequency')\n",
        "plt.title('Histogram of Converted Compensation')\n",
        "\n",
        "# Show the plot\n",
        "plt.show()"
      ]
    },
    {
      "cell_type": "markdown",
      "metadata": {
        "id": "C269Xe3fN7oZ"
      },
      "source": [
        "What is the median of the column `ConvertedComp`?\n"
      ]
    },
    {
      "cell_type": "code",
      "execution_count": null,
      "metadata": {
        "colab": {
          "base_uri": "https://localhost:8080/"
        },
        "id": "9mGQgsXUN7oZ",
        "outputId": "30b907f9-9c44-4284-daf9-e61b43be8806"
      },
      "outputs": [
        {
          "output_type": "stream",
          "name": "stdout",
          "text": [
            "The median of the ConvertedComp column is: 57745.0\n"
          ]
        }
      ],
      "source": [
        "# your code goes here\n",
        "# Calculate the median of the ConvertedComp column\n",
        "median_salary = df['ConvertedComp'].median()\n",
        "\n",
        "print(f\"The median of the ConvertedComp column is: {median_salary}\")"
      ]
    },
    {
      "cell_type": "markdown",
      "metadata": {
        "id": "7gdhEJ4qN7oZ"
      },
      "source": [
        "How many responders identified themselves only as a **Man**?\n"
      ]
    },
    {
      "cell_type": "code",
      "execution_count": null,
      "metadata": {
        "colab": {
          "base_uri": "https://localhost:8080/"
        },
        "id": "r9MXnJczN7oZ",
        "outputId": "a5f71035-fa08-4683-9bde-b2c86abb7fe1"
      },
      "outputs": [
        {
          "output_type": "stream",
          "name": "stdout",
          "text": [
            "The number of responders who identified only as a Man is: 10480\n"
          ]
        }
      ],
      "source": [
        "# your code goes here\n",
        "# Filter the DataFrame for responders who identified only as a man\n",
        "only_man_responders = df[df['Gender'] == 'Man']\n",
        "\n",
        "# Get the count of responders\n",
        "num_only_man_responders = only_man_responders.shape[0]\n",
        "\n",
        "print(f\"The number of responders who identified only as a Man is: {num_only_man_responders}\")"
      ]
    },
    {
      "cell_type": "markdown",
      "metadata": {
        "id": "r4HMYht9N7oa"
      },
      "source": [
        "Find out the  median ConvertedComp of responders identified themselves only as a **Woman**?\n"
      ]
    },
    {
      "cell_type": "code",
      "execution_count": null,
      "metadata": {
        "colab": {
          "base_uri": "https://localhost:8080/"
        },
        "id": "r0o5Gk6WN7oa",
        "outputId": "d28a0470-abe4-4c45-ccf2-348157d28eb7"
      },
      "outputs": [
        {
          "output_type": "stream",
          "name": "stdout",
          "text": [
            "The median ConvertedComp for responders identified only as a Woman is: 57708.0\n"
          ]
        }
      ],
      "source": [
        "\n",
        "# Filter the DataFrame for responders who identified only as a woman\n",
        "only_woman_responders = df[df['Gender'] == 'Woman']\n",
        "\n",
        "# Calculate the median ConvertedComp for only woman responders\n",
        "median_salary_woman = only_woman_responders['ConvertedComp'].median()\n",
        "\n",
        "print(f\"The median ConvertedComp for responders identified only as a Woman is: {median_salary_woman}\")"
      ]
    },
    {
      "cell_type": "markdown",
      "metadata": {
        "id": "g7qE5d6uN7oa"
      },
      "source": [
        "Give the five number summary for the column `Age`?\n"
      ]
    },
    {
      "cell_type": "markdown",
      "metadata": {
        "id": "WTXSSt27N7oa"
      },
      "source": [
        "**Double click here for hint**.\n",
        "\n",
        "<!--\n",
        "min,q1,median,q3,max of a column are its five number summary.\n",
        "-->\n"
      ]
    },
    {
      "cell_type": "code",
      "execution_count": null,
      "metadata": {
        "colab": {
          "base_uri": "https://localhost:8080/"
        },
        "id": "QSOyWavcN7ob",
        "outputId": "ab491ea2-54eb-4662-f2a6-a02ce8fecefe"
      },
      "outputs": [
        {
          "output_type": "stream",
          "name": "stdout",
          "text": [
            "Five-number summary for the 'Age' column:\n",
            "min    16.0\n",
            "25%    25.0\n",
            "50%    29.0\n",
            "75%    35.0\n",
            "max    99.0\n",
            "Name: Age, dtype: float64\n"
          ]
        }
      ],
      "source": [
        "# your code goes here\n",
        "# Get the five-number summary for the 'Age' column\n",
        "age_summary = df['Age'].describe(percentiles=[.25, .5, .75])\n",
        "\n",
        "print(\"Five-number summary for the 'Age' column:\")\n",
        "print(age_summary[['min', '25%', '50%', '75%', 'max']])"
      ]
    },
    {
      "cell_type": "markdown",
      "metadata": {
        "id": "SDSqtZqWN7ob"
      },
      "source": [
        "Plot a histogram of the column `Age`.\n"
      ]
    },
    {
      "cell_type": "code",
      "execution_count": null,
      "metadata": {
        "colab": {
          "base_uri": "https://localhost:8080/",
          "height": 564
        },
        "id": "onvM3lu7N7ob",
        "outputId": "92756bbe-285d-4ed6-edbc-ca7718aea244"
      },
      "outputs": [
        {
          "output_type": "display_data",
          "data": {
            "text/plain": [
              "<Figure size 1000x600 with 1 Axes>"
            ],
            "image/png": "[encoded data removed]"
          },
          "metadata": {}
        }
      ],
      "source": [
        "# your code goes here\n",
        "# Plot the histogram for the 'Age' column\n",
        "plt.figure(figsize=(10, 6))\n",
        "plt.hist(df['Age'], bins=30, color='skyblue', edgecolor='black')\n",
        "\n",
        "# Set labels and title\n",
        "plt.xlabel('Age')\n",
        "plt.ylabel('Frequency')\n",
        "plt.title('Histogram of Age')\n",
        "\n",
        "# Show the plot\n",
        "plt.show()"
      ]
    },
    {
      "cell_type": "markdown",
      "metadata": {
        "id": "0MxUw-kZN7ob"
      },
      "source": [
        "## Outliers\n"
      ]
    },
    {
      "cell_type": "markdown",
      "metadata": {
        "id": "IQ7Ih77AN7ob"
      },
      "source": [
        "### Finding outliers\n"
      ]
    },
    {
      "cell_type": "markdown",
      "metadata": {
        "id": "oO_Gxt7RN7ob"
      },
      "source": [
        "Find out if outliers exist in the column `ConvertedComp` using a box plot?\n"
      ]
    },
    {
      "cell_type": "code",
      "execution_count": null,
      "metadata": {
        "colab": {
          "base_uri": "https://localhost:8080/",
          "height": 564
        },
        "id": "zyckaeOtN7oc",
        "outputId": "812bed19-6487-458d-8dc7-892feec4be12"
      },
      "outputs": [
        {
          "output_type": "display_data",
          "data": {
            "text/plain": [
              "<Figure size 1000x600 with 1 Axes>"
            ],
            "image/png": "[encoded data removed]"
          },
          "metadata": {}
        }
      ],
      "source": [
        "\n",
        "# Plot a box plot for the 'ConvertedComp' column\n",
        "plt.figure(figsize=(10, 6))\n",
        "plt.boxplot(df['ConvertedComp'], vert=False, patch_artist=True, labels=['ConvertedComp'], boxprops=dict(facecolor='skyblue'))\n",
        "\n",
        "# Set labels and title\n",
        "plt.xlabel('Converted Compensation (USD)')\n",
        "plt.title('Box Plot of Converted Compensation')\n",
        "\n",
        "# Show the plot\n",
        "plt.show()"
      ]
    },
    {
      "cell_type": "code",
      "source": [
        "# Plot a box plot for the 'ConvertedComp' column with a log scale\n",
        "plt.figure(figsize=(10, 6))\n",
        "plt.boxplot(df['ConvertedComp'], vert=False, labels=['ConvertedComp'])\n",
        "plt.xscale('log')  # Use a log scale for better visibility\n",
        "\n",
        "# Set labels and title\n",
        "plt.xlabel('Converted Compensation (USD) - Log Scale')\n",
        "plt.title('Box Plot of Converted Compensation')\n",
        "\n",
        "# Show the plot\n",
        "plt.show()"
      ],
      "metadata": {
        "colab": {
          "base_uri": "https://localhost:8080/",
          "height": 569
        },
        "id": "F1Vcj5fp357p",
        "outputId": "41f0caa3-bab8-4534-bc7f-22af023d2e9d"
      },
      "execution_count": null,
      "outputs": [
        {
          "output_type": "display_data",
          "data": {
            "text/plain": [
              "<Figure size 1000x600 with 1 Axes>"
            ],
            "image/png": "[encoded data removed]"
          },
          "metadata": {}
        }
      ]
    },
    {
      "cell_type": "code",
      "source": [
        "df['ConvertedComp'].describe()"
      ],
      "metadata": {
        "colab": {
          "base_uri": "https://localhost:8080/"
        },
        "id": "B9iwpvJH5fdf",
        "outputId": "29705ead-c367-461b-c1af-29dba334c042"
      },
      "execution_count": null,
      "outputs": [
        {
          "output_type": "execute_result",
          "data": {
            "text/plain": [
              "count    1.058200e+04\n",
              "mean     1.315967e+05\n",
              "std      2.947865e+05\n",
              "min      0.000000e+00\n",
              "25%      2.686800e+04\n",
              "50%      5.774500e+04\n",
              "75%      1.000000e+05\n",
              "max      2.000000e+06\n",
              "Name: ConvertedComp, dtype: float64"
            ]
          },
          "metadata": {},
          "execution_count": 15
        }
      ]
    },
    {
      "cell_type": "code",
      "source": [
        "# Plot a box plot for the 'ConvertedComp' column using seaborn\n",
        "plt.figure(figsize=(10, 6))\n",
        "sns.boxplot(x='ConvertedComp', data=df, palette='viridis')\n",
        "\n",
        "# Set labels and title\n",
        "plt.xlabel('Converted Compensation (USD)')\n",
        "plt.title('Box Plot of Converted Compensation')\n",
        "\n",
        "# Set a log scale on the x-axis for better visibility\n",
        "plt.xscale('log')\n",
        "\n",
        "# Show the plot\n",
        "plt.show()"
      ],
      "metadata": {
        "colab": {
          "base_uri": "https://localhost:8080/",
          "height": 569
        },
        "id": "nLtWcIA4587U",
        "outputId": "1176f9af-f174-42e3-a0ae-9a35e1399085"
      },
      "execution_count": null,
      "outputs": [
        {
          "output_type": "display_data",
          "data": {
            "text/plain": [
              "<Figure size 1000x600 with 1 Axes>"
            ],
            "image/png": "[encoded data removed]"
          },
          "metadata": {}
        }
      ]
    },
    {
      "cell_type": "code",
      "source": [
        "# Plot a box plot for the 'ConvertedComp' column using seaborn\n",
        "plt.figure(figsize=(10, 6))\n",
        "sns.boxplot(x='ConvertedComp', data=df, palette='viridis')\n",
        "\n",
        "# Set labels and title\n",
        "plt.xlabel('Converted Compensation (USD)')\n",
        "plt.title('Box Plot of Converted Compensation')\n",
        "\n",
        "# Show the plot\n",
        "plt.show()"
      ],
      "metadata": {
        "colab": {
          "base_uri": "https://localhost:8080/",
          "height": 564
        },
        "id": "n38JLLHs7Pa9",
        "outputId": "06b832f7-81bb-4144-aee9-1fc458d9df3b"
      },
      "execution_count": null,
      "outputs": [
        {
          "output_type": "display_data",
          "data": {
            "text/plain": [
              "<Figure size 1000x600 with 1 Axes>"
            ],
            "image/png": "[encoded data removed]"
          },
          "metadata": {}
        }
      ]
    },
    {
      "cell_type": "markdown",
      "metadata": {
        "id": "N7k0OAgeN7oc"
      },
      "source": [
        "Find out the Inter Quartile Range for the column `ConvertedComp`.\n"
      ]
    },
    {
      "cell_type": "code",
      "execution_count": null,
      "metadata": {
        "colab": {
          "base_uri": "https://localhost:8080/"
        },
        "id": "gKzeFaMAN7oc",
        "outputId": "83af6e92-f60e-4fcd-8b99-661d5c19d515"
      },
      "outputs": [
        {
          "output_type": "stream",
          "name": "stdout",
          "text": [
            "The Interquartile Range (IQR) for ConvertedComp is: 73132.0\n"
          ]
        }
      ],
      "source": [
        "# your code goes here\n",
        "# Calculate the Interquartile Range (IQR) for the 'ConvertedComp' column\n",
        "Q1 = df['ConvertedComp'].quantile(0.25)\n",
        "Q3 = df['ConvertedComp'].quantile(0.75)\n",
        "IQR = Q3 - Q1\n",
        "\n",
        "print(f\"The Interquartile Range (IQR) for ConvertedComp is: {IQR}\")"
      ]
    },
    {
      "cell_type": "markdown",
      "metadata": {
        "id": "_RKh7eX_N7oc"
      },
      "source": [
        "Find out the upper and lower bounds.\n"
      ]
    },
    {
      "cell_type": "code",
      "execution_count": null,
      "metadata": {
        "colab": {
          "base_uri": "https://localhost:8080/"
        },
        "id": "0d5q61rFN7oc",
        "outputId": "7d096a18-949f-4fcc-8d1b-1a99bde4128e"
      },
      "outputs": [
        {
          "output_type": "stream",
          "name": "stdout",
          "text": [
            "The lower bound for potential outliers is: -82830.0\n",
            "The upper bound for potential outliers is: 209698.0\n"
          ]
        }
      ],
      "source": [
        "# Calculate the lower and upper bounds for potential outliers\n",
        "lower_bound = Q1 - 1.5 * IQR\n",
        "upper_bound = Q3 + 1.5 * IQR\n",
        "\n",
        "print(f\"The lower bound for potential outliers is: {lower_bound}\")\n",
        "print(f\"The upper bound for potential outliers is: {upper_bound}\")\n"
      ]
    },
    {
      "cell_type": "markdown",
      "metadata": {
        "id": "LQhP4aYzN7on"
      },
      "source": [
        "Identify how many outliers are there in the `ConvertedComp` column.\n"
      ]
    },
    {
      "cell_type": "code",
      "execution_count": null,
      "metadata": {
        "colab": {
          "base_uri": "https://localhost:8080/"
        },
        "id": "wcC8nN-VN7on",
        "outputId": "6d658d21-4883-4ea2-b93f-eecd18c74f79"
      },
      "outputs": [
        {
          "output_type": "stream",
          "name": "stdout",
          "text": [
            "The number of outliers in the 'ConvertedComp' column is: 879\n"
          ]
        }
      ],
      "source": [
        "\n",
        "# Identify outliers\n",
        "outliers = df[(df['ConvertedComp'] < lower_bound) | (df['ConvertedComp'] > upper_bound)]\n",
        "\n",
        "# Count the number of outliers\n",
        "num_outliers = outliers.shape[0]\n",
        "\n",
        "print(f\"The number of outliers in the 'ConvertedComp' column is: {num_outliers}\")"
      ]
    },
    {
      "cell_type": "code",
      "source": [
        "# Identify and count outliers below Q1\n",
        "outliers_below_Q1 = df[df['Age'] < lower_bound]\n",
        "num_outliers_below_Q1 = outliers_below_Q1.shape[0]\n",
        "\n",
        "print(f\"The number of outliers below Q1 in the 'Age' column is: {num_outliers_below_Q1}\")"
      ],
      "metadata": {
        "colab": {
          "base_uri": "https://localhost:8080/"
        },
        "id": "0ZEQjrhKjZdf",
        "outputId": "1af8b250-012c-4b64-b0c0-8e47f65bf5c6"
      },
      "execution_count": null,
      "outputs": [
        {
          "output_type": "stream",
          "name": "stdout",
          "text": [
            "The number of outliers below Q1 in the 'Age' column is: 0\n"
          ]
        }
      ]
    },
    {
      "cell_type": "markdown",
      "metadata": {
        "id": "uCU7aa81N7on"
      },
      "source": [
        "Create a new dataframe by removing the outliers from the `ConvertedComp` column.\n"
      ]
    },
    {
      "cell_type": "code",
      "execution_count": null,
      "metadata": {
        "colab": {
          "base_uri": "https://localhost:8080/"
        },
        "id": "YhSyibL4N7oo",
        "outputId": "e7b915e2-990f-4cd9-b46d-b1eb13eb7752"
      },
      "outputs": [
        {
          "output_type": "stream",
          "name": "stdout",
          "text": [
            "       Respondent                      MainBranch Hobbyist  \\\n",
            "0               4  I am a developer by profession       No   \n",
            "1               9  I am a developer by profession      Yes   \n",
            "2              13  I am a developer by profession      Yes   \n",
            "4              17  I am a developer by profession      Yes   \n",
            "5              19  I am a developer by profession      Yes   \n",
            "...           ...                             ...      ...   \n",
            "11393       25136  I am a developer by profession      Yes   \n",
            "11394       25137  I am a developer by profession      Yes   \n",
            "11395       25138  I am a developer by profession      Yes   \n",
            "11396       25141  I am a developer by profession      Yes   \n",
            "11397       25142  I am a developer by profession      Yes   \n",
            "\n",
            "                                             OpenSourcer  \\\n",
            "0                                                  Never   \n",
            "1                             Once a month or more often   \n",
            "2      Less than once a month but more than once per ...   \n",
            "4      Less than once a month but more than once per ...   \n",
            "5                                                  Never   \n",
            "...                                                  ...   \n",
            "11393                                              Never   \n",
            "11394                                              Never   \n",
            "11395                            Less than once per year   \n",
            "11396  Less than once a month but more than once per ...   \n",
            "11397  Less than once a month but more than once per ...   \n",
            "\n",
            "                                              OpenSource          Employment  \\\n",
            "0      The quality of OSS and closed source software ...  Employed full-time   \n",
            "1      The quality of OSS and closed source software ...  Employed full-time   \n",
            "2      OSS is, on average, of HIGHER quality than pro...  Employed full-time   \n",
            "4      The quality of OSS and closed source software ...  Employed full-time   \n",
            "5      The quality of OSS and closed source software ...  Employed full-time   \n",
            "...                                                  ...                 ...   \n",
            "11393  OSS is, on average, of HIGHER quality than pro...  Employed full-time   \n",
            "11394  The quality of OSS and closed source software ...  Employed full-time   \n",
            "11395  The quality of OSS and closed source software ...  Employed full-time   \n",
            "11396  OSS is, on average, of LOWER quality than prop...  Employed full-time   \n",
            "11397  OSS is, on average, of HIGHER quality than pro...  Employed full-time   \n",
            "\n",
            "              Country Student  \\\n",
            "0       United States      No   \n",
            "1         New Zealand      No   \n",
            "2       United States      No   \n",
            "4           Australia      No   \n",
            "5              Brazil      No   \n",
            "...               ...     ...   \n",
            "11393   United States      No   \n",
            "11394          Poland      No   \n",
            "11395   United States      No   \n",
            "11396     Switzerland      No   \n",
            "11397  United Kingdom      No   \n",
            "\n",
            "                                                 EdLevel  \\\n",
            "0               Bachelor’s degree (BA, BS, B.Eng., etc.)   \n",
            "1      Some college/university study without earning ...   \n",
            "2            Master’s degree (MA, MS, M.Eng., MBA, etc.)   \n",
            "4               Bachelor’s degree (BA, BS, B.Eng., etc.)   \n",
            "5      Some college/university study without earning ...   \n",
            "...                                                  ...   \n",
            "11393        Master’s degree (MA, MS, M.Eng., MBA, etc.)   \n",
            "11394        Master’s degree (MA, MS, M.Eng., MBA, etc.)   \n",
            "11395        Master’s degree (MA, MS, M.Eng., MBA, etc.)   \n",
            "11396  Secondary school (e.g. American high school, G...   \n",
            "11397          Other doctoral degree (Ph.D, Ed.D., etc.)   \n",
            "\n",
            "                                          UndergradMajor  ...  \\\n",
            "0      Computer science, computer engineering, or sof...  ...   \n",
            "1      Computer science, computer engineering, or sof...  ...   \n",
            "2      Computer science, computer engineering, or sof...  ...   \n",
            "4      Computer science, computer engineering, or sof...  ...   \n",
            "5      Computer science, computer engineering, or sof...  ...   \n",
            "...                                                  ...  ...   \n",
            "11393  Computer science, computer engineering, or sof...  ...   \n",
            "11394  Computer science, computer engineering, or sof...  ...   \n",
            "11395  Computer science, computer engineering, or sof...  ...   \n",
            "11396                                                NaN  ...   \n",
            "11397  A natural science (ex. biology, chemistry, phy...  ...   \n",
            "\n",
            "                                  WelcomeChange  \\\n",
            "0       Just as welcome now as I felt last year   \n",
            "1       Just as welcome now as I felt last year   \n",
            "2      Somewhat more welcome now than last year   \n",
            "4       Just as welcome now as I felt last year   \n",
            "5       Just as welcome now as I felt last year   \n",
            "...                                         ...   \n",
            "11393   Just as welcome now as I felt last year   \n",
            "11394     A lot more welcome now than last year   \n",
            "11395     A lot more welcome now than last year   \n",
            "11396  Somewhat less welcome now than last year   \n",
            "11397   Just as welcome now as I felt last year   \n",
            "\n",
            "                                            SONewContent   Age Gender Trans  \\\n",
            "0      Tech articles written by other developers;Indu...  22.0    Man    No   \n",
            "1                                                    NaN  23.0    Man    No   \n",
            "2      Tech articles written by other developers;Cour...  28.0    Man    No   \n",
            "4      Tech articles written by other developers;Indu...  29.0    Man    No   \n",
            "5      Tech articles written by other developers;Indu...  31.0    Man    No   \n",
            "...                                                  ...   ...    ...   ...   \n",
            "11393  Tech articles written by other developers;Cour...  36.0    Man    No   \n",
            "11394  Tech articles written by other developers;Tech...  25.0    Man    No   \n",
            "11395  Tech articles written by other developers;Indu...  34.0    Man    No   \n",
            "11396                                                NaN  25.0    Man    No   \n",
            "11397  Tech articles written by other developers;Tech...  30.0    Man    No   \n",
            "\n",
            "                     Sexuality                              Ethnicity  \\\n",
            "0      Straight / Heterosexual           White or of European descent   \n",
            "1                     Bisexual           White or of European descent   \n",
            "2      Straight / Heterosexual           White or of European descent   \n",
            "4      Straight / Heterosexual  Hispanic or Latino/Latina;Multiracial   \n",
            "5      Straight / Heterosexual              Hispanic or Latino/Latina   \n",
            "...                        ...                                    ...   \n",
            "11393  Straight / Heterosexual           White or of European descent   \n",
            "11394  Straight / Heterosexual           White or of European descent   \n",
            "11395  Straight / Heterosexual           White or of European descent   \n",
            "11396  Straight / Heterosexual           White or of European descent   \n",
            "11397                 Bisexual           White or of European descent   \n",
            "\n",
            "      Dependents           SurveyLength                  SurveyEase  \n",
            "0             No  Appropriate in length                        Easy  \n",
            "1             No  Appropriate in length  Neither easy nor difficult  \n",
            "2            Yes  Appropriate in length                        Easy  \n",
            "4             No  Appropriate in length                        Easy  \n",
            "5            Yes               Too long                        Easy  \n",
            "...          ...                    ...                         ...  \n",
            "11393         No  Appropriate in length                   Difficult  \n",
            "11394         No  Appropriate in length  Neither easy nor difficult  \n",
            "11395        Yes               Too long                        Easy  \n",
            "11396         No  Appropriate in length                        Easy  \n",
            "11397         No  Appropriate in length                        Easy  \n",
            "\n",
            "[10519 rows x 85 columns]\n"
          ]
        }
      ],
      "source": [
        "# your code goes here\n",
        "# Create a new DataFrame without outliers\n",
        "df_no_outliers = df[~((df['ConvertedComp'] < lower_bound) | (df['ConvertedComp'] > upper_bound))]\n",
        "\n",
        "# Display the new DataFrame without outliers\n",
        "print(df_no_outliers)"
      ]
    },
    {
      "cell_type": "code",
      "source": [
        "# Calculate the median ConvertedComp before removing outliers\n",
        "median_before_outliers = df['ConvertedComp'].median()\n",
        "\n",
        "print(f\"The median ConvertedComp before removing outliers is: {median_before_outliers}\")"
      ],
      "metadata": {
        "colab": {
          "base_uri": "https://localhost:8080/"
        },
        "id": "FIM6Pwo7jeV-",
        "outputId": "d981346e-7f55-4be0-91de-9d99d4cae921"
      },
      "execution_count": null,
      "outputs": [
        {
          "output_type": "stream",
          "name": "stdout",
          "text": [
            "The median ConvertedComp before removing outliers is: 57745.0\n"
          ]
        }
      ]
    },
    {
      "cell_type": "code",
      "source": [
        "# Calculate the median ConvertedComp after removing outliers\n",
        "median_after_outliers = df_no_outliers['ConvertedComp'].median()\n",
        "\n",
        "print(f\"The median ConvertedComp after removing outliers is: {median_after_outliers}\")"
      ],
      "metadata": {
        "colab": {
          "base_uri": "https://localhost:8080/"
        },
        "id": "mx48FEw9kLn4",
        "outputId": "8dde3646-d0dc-4bd3-ae39-df2bbe2854b0"
      },
      "execution_count": null,
      "outputs": [
        {
          "output_type": "stream",
          "name": "stdout",
          "text": [
            "The median ConvertedComp after removing outliers is: 52704.0\n"
          ]
        }
      ]
    },
    {
      "cell_type": "code",
      "source": [
        "# Calculate the mean ConvertedComp after removing outliers\n",
        "mean_after_outliers = df_no_outliers['ConvertedComp'].mean()\n",
        "\n",
        "print(f\"The mean ConvertedComp after removing outliers is: {mean_after_outliers}\")"
      ],
      "metadata": {
        "colab": {
          "base_uri": "https://localhost:8080/"
        },
        "id": "08iDgJc4mBiV",
        "outputId": "83da5d0e-694f-479b-c71e-6c84a302060e"
      },
      "execution_count": null,
      "outputs": [
        {
          "output_type": "stream",
          "name": "stdout",
          "text": [
            "The mean ConvertedComp after removing outliers is: 59883.20838915799\n"
          ]
        }
      ]
    },
    {
      "cell_type": "markdown",
      "metadata": {
        "id": "sjq1S8yQN7oo"
      },
      "source": [
        "## Correlation\n"
      ]
    },
    {
      "cell_type": "markdown",
      "metadata": {
        "id": "5aqUEuASN7oo"
      },
      "source": [
        "### Finding correlation\n"
      ]
    },
    {
      "cell_type": "markdown",
      "metadata": {
        "id": "L8Ors65bN7oo"
      },
      "source": [
        "Find the correlation between `Age` and all other numerical columns.\n"
      ]
    },
    {
      "cell_type": "code",
      "execution_count": null,
      "metadata": {
        "colab": {
          "base_uri": "https://localhost:8080/"
        },
        "id": "4llMRZXRN7oo",
        "outputId": "8c6bd6c4-9452-4dc7-9f1b-473e9da78044"
      },
      "outputs": [
        {
          "output_type": "stream",
          "name": "stdout",
          "text": [
            "Correlation between Age and other numerical columns:\n",
            "Respondent       0.004041\n",
            "CompTotal        0.006970\n",
            "ConvertedComp    0.105386\n",
            "WorkWeekHrs      0.036518\n",
            "CodeRevHrs      -0.020469\n",
            "Age              1.000000\n",
            "dtype: float64\n"
          ]
        },
        {
          "output_type": "stream",
          "name": "stderr",
          "text": [
            "<ipython-input-26-b64cbe2fe943>:2: FutureWarning: The default value of numeric_only in DataFrame.corrwith is deprecated. In a future version, it will default to False. Select only valid columns or specify the value of numeric_only to silence this warning.\n",
            "  age_correlation = df.corrwith(df['Age'])\n"
          ]
        }
      ],
      "source": [
        "# Find the correlation between 'Age' and all other numerical columns\n",
        "age_correlation = df.corrwith(df['Age'])\n",
        "\n",
        "# Display the correlation results\n",
        "print(\"Correlation between Age and other numerical columns:\")\n",
        "print(age_correlation)\n"
      ]
    },
    {
      "cell_type": "markdown",
      "metadata": {
        "id": "2QPhPUBfN7oo"
      },
      "source": [
        "## Authors\n"
      ]
    },
    {
      "cell_type": "markdown",
      "metadata": {
        "id": "R2OPCrPlN7oo"
      },
      "source": [
        "Ramesh Sannareddy\n"
      ]
    },
    {
      "cell_type": "markdown",
      "metadata": {
        "id": "VO1dlO8tN7oo"
      },
      "source": [
        "### Other Contributors\n"
      ]
    },
    {
      "cell_type": "markdown",
      "metadata": {
        "id": "xbGFl_YRN7op"
      },
      "source": [
        "Rav Ahuja\n"
      ]
    },
    {
      "cell_type": "markdown",
      "metadata": {
        "id": "KJb_5i3BN7op"
      },
      "source": [
        "## Change Log\n"
      ]
    },
    {
      "cell_type": "markdown",
      "metadata": {
        "id": "uQHaeSGhN7op"
      },
      "source": [
        "| Date (YYYY-MM-DD) | Version | Changed By        | Change Description                 |\n",
        "| ----------------- | ------- | ----------------- | ---------------------------------- |\n",
        "| 2020-10-17        | 0.1     | Ramesh Sannareddy | Created initial version of the lab |\n"
      ]
    },
    {
      "cell_type": "markdown",
      "metadata": {
        "id": "0L_1eXeEN7op"
      },
      "source": [
        " Copyright © 2020 IBM Corporation. This notebook and its source code are released under the terms of the [MIT License](https://cognitiveclass.ai/mit-license?utm_medium=Exinfluencer&utm_source=Exinfluencer&utm_content=000026UJ&utm_term=10006555&utm_id=NA-SkillsNetwork-Channel-SkillsNetworkCoursesIBMDA0321ENSkillsNetwork928-2023-01-01&cm_mmc=Email_Newsletter-_-Developer_Ed%2BTech-_-WW_WW-_-SkillsNetwork-Courses-IBM-DA0321EN-SkillsNetwork-21426264&cm_mmca1=000026UJ&cm_mmca2=10006555&cm_mmca3=M12345678&cvosrc=email.Newsletter.M12345678&cvo_campaign=000026UJ).\n"
      ]
    }
  ],
  "metadata": {
    "kernelspec": {
      "display_name": "Python",
      "language": "python",
      "name": "conda-env-python-py"
    },
    "language_info": {
      "name": ""
    },
    "colab": {
      "provenance": [],
      "name": "data_analysis-outliers_(copy-of-m3exploratory).ipynb"
    }
  },
  "nbformat": 4,
  "nbformat_minor": 0
}